{
 "cells": [
  {
   "cell_type": "markdown",
   "metadata": {
    "id": "VSoklTpd64He"
   },
   "source": [
    "## Homework 02-2: due 2024/04/08 23:59 (70%)\n",
    "\n",
    "### - Tutorial : https://machinelearningmastery.com/pytorch-tutorial-develop-deep-learning-models/\n",
    "\n",
    "### - After you go through the tutorials, you should be able to work on this assignment.\n",
    "\n",
    "### - Please answer the following questions and work directly on this jupyter notebook.\n",
    "\n",
    "### - Make sure the code can be run and show the result and figures properly.\n",
    "\n",
    "### - Please write down your observation with markdown in this notebook briefly.\n",
    "\n"
   ]
  },
  {
   "cell_type": "markdown",
   "metadata": {
    "id": "Qz9X8m2NJwdj",
    "tags": []
   },
   "source": [
    "#### You will train a regression model in this part. The data is **Concrete Compressive Strength Dataset**, you can find the details of each column at https://archive.ics.uci.edu/ml/datasets/concrete+compressive+strength. In this part, please predict the **strength of concrete**."
   ]
  },
  {
   "cell_type": "code",
   "execution_count": 1,
   "metadata": {
    "id": "gFMwtIeAJwdj"
   },
   "outputs": [],
   "source": [
    "# Import necessory modules\n",
    "%matplotlib inline\n",
    "import pandas as pd\n",
    "import numpy as np\n",
    "import random\n",
    "import torch\n",
    "import torch.nn as nn\n",
    "import torch.optim as optim\n",
    "from torch.utils.data import Dataset, DataLoader\n",
    "import matplotlib.pyplot as plt\n",
    "from tqdm import tqdm\n",
    "from sklearn.preprocessing import MinMaxScaler"
   ]
  },
  {
   "cell_type": "code",
   "execution_count": 2,
   "metadata": {
    "id": "BpSVExq8Jwdl"
   },
   "outputs": [],
   "source": [
    "# For reproduce the result\n",
    "torch.manual_seed(1220)\n",
    "random.seed(1220)\n",
    "np.random.seed(1220)"
   ]
  },
  {
   "cell_type": "markdown",
   "metadata": {
    "id": "fFN95MvCJwdl"
   },
   "source": [
    "### 1. Define the model and dataset (10%)"
   ]
  },
  {
   "cell_type": "markdown",
   "metadata": {
    "id": "o1xJhvMbJwdm"
   },
   "source": [
    "#### 1.1 Please follow the Step 2 from the tutorial to create a class ***ConcreteDataset*** to load the data you need and also do the ***Min-Max scaling*** to the ***feature and label***. (5%)"
   ]
  },
  {
   "cell_type": "code",
   "execution_count": 3,
   "metadata": {
    "id": "f6qRprzVJwdm"
   },
   "outputs": [],
   "source": [
    "#for min-max scaling\n",
    "scaler_feature = MinMaxScaler()\n",
    "scaler_label = MinMaxScaler()\n",
    "\n",
    "class ConcreteDataset(Dataset):\n",
    "    def __init__(self, csv_path):\n",
    "        df = pd.read_csv(csv_path)\n",
    "        if csv_path == 'data/train.csv':\n",
    "            #fit the scaler on training set\n",
    "            scaled_label = scaler_label.fit_transform(df['csMPa'].values.reshape(-1,1))\n",
    "            df.drop('csMPa', axis = 1, inplace=True)\n",
    "            scaled_feature = scaler_feature.fit_transform(df)\n",
    "        else:\n",
    "            #use the scaler that has been fitted on the training dataset\n",
    "            scaled_label = scaler_label.transform(df['csMPa'].values.reshape(-1,1))\n",
    "            df.drop('csMPa', axis = 1, inplace=True)\n",
    "            scaled_feature = scaler_feature.transform(df)\n",
    "        \n",
    "        self.y = torch.tensor(scaled_label)\n",
    "        self.X = torch.tensor(scaled_feature)\n",
    "        \n",
    "    def __len__(self):\n",
    "        return len(self.X)\n",
    "    \n",
    "    def __getitem__(self, idx):\n",
    "        return [self.X[idx], self.y[idx]]"
   ]
  },
  {
   "cell_type": "markdown",
   "metadata": {
    "id": "VVC7FOQkJwdn"
   },
   "source": [
    "#### 1.2 By following the tutorial, try to create a class ***MLP(Neural Network)*** with ***three hidden layers*** as your network architecture. Also, for the convenience of implementation, please set the numbers of hidden nodes and the activation functions as input variables to the forward functions.(5%) "
   ]
  },
  {
   "cell_type": "code",
   "execution_count": 4,
   "metadata": {
    "id": "vWPTZrVdJwdo"
   },
   "outputs": [],
   "source": [
    "#instead of setting the no of hidden nodes and the activations functions as input variables\n",
    "#to the forward function, I pass it to the constructor\n",
    "class MLP(nn.Module):\n",
    "    def __init__(self, n1, n2, n3, h_activation, o_activation):\n",
    "        super(MLP, self).__init__()\n",
    "        \n",
    "        #no of features in the dataset is 8 initially\n",
    "        self.linear1 = nn.Linear(8, n1, dtype=torch.float64)\n",
    "        self.act1 = h_activation()\n",
    "        self.linear2 = nn.Linear(n1, n2, dtype=torch.float64)\n",
    "        self.act2 = h_activation()\n",
    "        self.linear3 = nn.Linear(n2, n3, dtype=torch.float64) \n",
    "        self.act3 = h_activation()\n",
    "        self.linear4 = nn.Linear(n3, 1, dtype=torch.float64)\n",
    "        self.output_act = o_activation()\n",
    "        \n",
    "    def forward(self, X):\n",
    "        X = self.linear1(X)\n",
    "        X = self.act1(X)\n",
    "        X = self.linear2(X)\n",
    "        X = self.act2(X)\n",
    "        X = self.linear3(X)\n",
    "        X = self.act3(X)\n",
    "        X = self.linear4(X)\n",
    "        X = self.output_act(X)\n",
    "        return X\n",
    "      "
   ]
  },
  {
   "cell_type": "markdown",
   "metadata": {
    "id": "VPm02AdTJwdp"
   },
   "source": [
    "### 2. Train the model (60%)"
   ]
  },
  {
   "cell_type": "markdown",
   "metadata": {
    "id": "LxwWJdZkJwdq"
   },
   "source": [
    "#### 2.1 Please load the ***train.csv/ validation.csv*** in ./data, and turn them into dataloader with batch size 64 and determine whether shuffle or not. (5%)"
   ]
  },
  {
   "cell_type": "code",
   "execution_count": 5,
   "metadata": {},
   "outputs": [],
   "source": [
    "train = ConcreteDataset('data/train.csv')\n",
    "validation = ConcreteDataset('data/validation.csv')\n",
    "\n",
    "#shuffle for train\n",
    "train_dl = DataLoader(train, batch_size= 64, shuffle=True)\n",
    "#no need to shuffle for validation\n",
    "validation_dl = DataLoader(validation, batch_size= 64, shuffle=False)\n"
   ]
  },
  {
   "cell_type": "markdown",
   "metadata": {
    "id": "rK_23b6YJwdu",
    "tags": []
   },
   "source": [
    "#### 2.2 Create two MLP model from the table below and ***print the model*** (10%):\n",
    "| | Hidden Layer 1| Hidden Layer 2| Hidden Layer 3| Activation in each hidden nodes | Activation for output |\n",
    "|:---:|:---:|:---:|:---:|:---:|:---:|\n",
    "|***Model1***| 256 | 64 | 8 | Tanh | Tanh |\n",
    "|***Model1***| 64 | 16 | 8 | Tanh | Identity |"
   ]
  },
  {
   "cell_type": "code",
   "execution_count": 6,
   "metadata": {},
   "outputs": [
    {
     "name": "stdout",
     "output_type": "stream",
     "text": [
      "MLP(\n",
      "  (linear1): Linear(in_features=8, out_features=256, bias=True)\n",
      "  (act1): Tanh()\n",
      "  (linear2): Linear(in_features=256, out_features=64, bias=True)\n",
      "  (act2): Tanh()\n",
      "  (linear3): Linear(in_features=64, out_features=8, bias=True)\n",
      "  (act3): Tanh()\n",
      "  (linear4): Linear(in_features=8, out_features=1, bias=True)\n",
      "  (output_act): Tanh()\n",
      ")\n",
      "MLP(\n",
      "  (linear1): Linear(in_features=8, out_features=64, bias=True)\n",
      "  (act1): Tanh()\n",
      "  (linear2): Linear(in_features=64, out_features=16, bias=True)\n",
      "  (act2): Tanh()\n",
      "  (linear3): Linear(in_features=16, out_features=8, bias=True)\n",
      "  (act3): Tanh()\n",
      "  (linear4): Linear(in_features=8, out_features=1, bias=True)\n",
      "  (output_act): Identity()\n",
      ")\n"
     ]
    }
   ],
   "source": [
    "#(originalLen, n1, n2, n3, h_activation, o_activation)\n",
    "\n",
    "#Model 1\n",
    "model1 = MLP(256, 64, 8, nn.Tanh, nn.Tanh)\n",
    "\n",
    "#Model 2\n",
    "model2 = MLP(64, 16, 8, nn.Tanh, nn.Identity)\n",
    "\n",
    "print(model1)\n",
    "print(model2)\n"
   ]
  },
  {
   "cell_type": "markdown",
   "metadata": {
    "id": "r_BjKmc1Jwdv"
   },
   "source": [
    "#### 2.3 Train the above two models with the same hyperpameters below and do the validation in every epoch. Choose the appropriate type of loss function according to the task. (25%)\n",
    "##### (Note. You should record the training/validation loss every epoch)"
   ]
  },
  {
   "cell_type": "markdown",
   "metadata": {
    "id": "uibgj0BQJwdv"
   },
   "source": [
    "\n",
    "| | Learning rate | epochs | optimizer | momentum |\n",
    "|:---:|:---:|:---:|:---:|:---:|\n",
    "|***Hyperparameter***| 0.01 | 300 | SGD | 0.9 |"
   ]
  },
  {
   "cell_type": "code",
   "execution_count": 7,
   "metadata": {},
   "outputs": [],
   "source": [
    "#since it is regression, the criterion will be MSE\n",
    "\n",
    "def train_model(model, n_epoch):\n",
    "    train_loss = []\n",
    "    validation_loss = []\n",
    "    \n",
    "    criterion = nn.MSELoss()\n",
    "    optimizer = optim.SGD(model.parameters(), lr= 0.01, momentum=0.9)\n",
    "    \n",
    "    for epoch in range(n_epoch):\n",
    "        model.train()\n",
    "        total_loss = 0\n",
    "        for input, target in train_dl:\n",
    "            optimizer.zero_grad()\n",
    "            pred = model(input)\n",
    "            loss = criterion(pred, target)\n",
    "            total_loss += loss\n",
    "            loss.backward()\n",
    "            optimizer.step()\n",
    "        #loss per epoch = total loss / no of batches\n",
    "        total_loss /= len(train_dl)\n",
    "        train_loss.append(total_loss.item())\n",
    "        #validation\n",
    "        model.eval()\n",
    "        total_loss = 0\n",
    "        for input, target in validation_dl:\n",
    "            pred = model(input)\n",
    "            loss = criterion(pred, target)\n",
    "            total_loss += loss\n",
    "        total_loss /= len(validation_dl)\n",
    "        validation_loss.append(total_loss.item())\n",
    "        \n",
    "    return (train_loss, validation_loss)\n"
   ]
  },
  {
   "cell_type": "code",
   "execution_count": 8,
   "metadata": {},
   "outputs": [],
   "source": [
    "#train the model with epoch 300\n",
    "model1_loss = train_model(model1, 300)\n",
    "model2_loss = train_model(model2, 300)"
   ]
  },
  {
   "cell_type": "markdown",
   "metadata": {
    "id": "5C9_OteKJwdv"
   },
   "source": [
    "#### 2.4 Please include the plot that shows how the training/validation loss vary with the training epoch. Show the plots using the above two models and write down the observation. (5%)"
   ]
  },
  {
   "cell_type": "code",
   "execution_count": 9,
   "metadata": {
    "id": "ddGvQYu_Jwdw",
    "outputId": "162c6835-86a8-43c8-f2fc-b98b5a573e99"
   },
   "outputs": [
    {
     "data": {
      "image/png": "[encoded data removed]",
      "text/plain": [
       "<Figure size 900x1000 with 2 Axes>"
      ]
     },
     "metadata": {},
     "output_type": "display_data"
    }
   ],
   "source": [
    "def draw_plot(n_epoch):    \n",
    "    fig, ax = plt.subplots(1,2, figsize= (9,10), constrained_layout = True)\n",
    "\n",
    "    x_axis = np.arange(n_epoch)\n",
    "    fig.suptitle(\"Loss per epoch here is\\n Total loss per epoch / no of batches\")\n",
    "    #model 1\n",
    "    ax[0].set_xlabel('Epoch')\n",
    "    ax[0].set_ylabel('Loss')\n",
    "    ax[0].set_title('Model 1 Loss')\n",
    "\n",
    "    ax[0].plot(x_axis, model1_loss[0], label='Training Loss')\n",
    "    ax[0].plot(x_axis, model1_loss[1], label='Validation Loss')\n",
    "\n",
    "    ax[0].legend()\n",
    "\n",
    "\n",
    "    #model 2\n",
    "    ax[1].set_xlabel('Epoch')\n",
    "    ax[1].set_ylabel('Loss')\n",
    "    ax[1].set_title('Model 2 Loss')\n",
    "\n",
    "    ax[1].plot(x_axis, model2_loss[0], label='Training Loss')\n",
    "    ax[1].plot(x_axis, model2_loss[1], label='Validation Loss')\n",
    "\n",
    "    ax[1].legend()\n",
    "\n",
    "draw_plot(300)"
   ]
  },
  {
   "cell_type": "markdown",
   "metadata": {},
   "source": [
    "### Observation\n",
    "For both models, after around 200 epoch, the validation loss started to become unstable (flunctuates more) and slowly increasing.\n",
    "On the other hand, the training loss keep decreasing. This shows that after 200 epoch, overfitting is happening.\n",
    "\n",
    "So, I will be picking an epoch of 200 for the next question.\n"
   ]
  },
  {
   "cell_type": "markdown",
   "metadata": {},
   "source": [
    "#### 2.5 From the observation of the previous question, please determine an appropriate epoch and retrain the two models to avoid overfitting. Also, draw the loss plot of two models and save the last model as ***model1.pth*** and ***model2.pth***. (10%)\n",
    "##### (Note. You should reload the models and the optimizer, otherwise, you will resume from the previous stop.)"
   ]
  },
  {
   "cell_type": "code",
   "execution_count": 10,
   "metadata": {},
   "outputs": [],
   "source": [
    "#Retrain model up to epoch 200\n",
    "#Model 1\n",
    "model1_epoch200 = MLP(256, 64, 8, nn.Tanh, nn.Tanh)\n",
    "\n",
    "#Model 2\n",
    "model2_epoch200 = MLP(64, 16, 8, nn.Tanh, nn.Identity)\n",
    "\n",
    "\n",
    "#train\n",
    "model1_loss = train_model(model1_epoch200, 200)\n",
    "model2_loss = train_model(model2_epoch200, 200)\n",
    "\n",
    "#save model\n",
    "torch.save(model1_epoch200.state_dict(), 'model1.pth')\n",
    "torch.save(model2_epoch200.state_dict(), 'model2.pth')\n"
   ]
  },
  {
   "cell_type": "markdown",
   "metadata": {
    "id": "Gj7T-StIJwdw",
    "tags": []
   },
   "source": [
    "#### 2.6 Please load the checkpoints saved from previous question and calculate the mean squared error on test dataset for two models respectively. Also, make a dataframe with target and prediction like below and save it as ***regression.csv*** (5%)\n",
    "|Target|Model1|Model2|\n",
    "|:---:|:---:|:---:|\n",
    "|24.05|26.35|27.04|\n",
    "|21.67|32.78|21.95|"
   ]
  },
  {
   "cell_type": "code",
   "execution_count": 11,
   "metadata": {
    "id": "_edN99DGJwdw",
    "outputId": "2c09b0aa-67af-4d64-860a-760f0760395b"
   },
   "outputs": [
    {
     "data": {
      "text/plain": [
       "<All keys matched successfully>"
      ]
     },
     "execution_count": 11,
     "metadata": {},
     "output_type": "execute_result"
    }
   ],
   "source": [
    "#load the models\n",
    "loaded_model1 = MLP(256, 64, 8, nn.Tanh, nn.Tanh)\n",
    "loaded_model1.load_state_dict(torch.load('model1.pth'))\n",
    "\n",
    "loaded_model2 = MLP(64, 16, 8, nn.Tanh, nn.Identity)\n",
    "loaded_model2.load_state_dict(torch.load('model2.pth'))"
   ]
  },
  {
   "cell_type": "code",
   "execution_count": 25,
   "metadata": {},
   "outputs": [
    {
     "name": "stdout",
     "output_type": "stream",
     "text": [
      "Before printing MSE, I made sure to scale back the prediction label to its original form\n",
      "The MSE of model 1 is: 69.56617941085868\n",
      "The MSE of model 2 is: 84.18367768826324\n"
     ]
    }
   ],
   "source": [
    "#testing the model and creating the table\n",
    "\n",
    "test_df = pd.read_csv('data/test.csv')\n",
    "final_table = pd.DataFrame()\n",
    "final_table['Target'] = test_df['csMPa']\n",
    "\n",
    "#apply min max scaling cuz we do that for our training dataset\n",
    "#y test no need to be scaled since I will calculate the MSE with no scaling\n",
    "y_test = torch.tensor(test_df['csMPa']).reshape(-1,1)\n",
    "#drop the label from the dataframe\n",
    "test_df.drop('csMPa', axis=1, inplace=True)\n",
    "#scaled the feature\n",
    "X_test = torch.from_numpy(scaler_feature.transform(test_df))\n",
    "\n",
    "test_loss = []\n",
    "\n",
    "def test_model(model):\n",
    "    model.eval()\n",
    "    criterion = nn.MSELoss()\n",
    "    pred = model(X_test)\n",
    "    \n",
    "    \n",
    "    #for MSE, I will calculate it WITHOUT SCALING\n",
    "    #since we scale the features before, and train the model with scaled features, we need to do inverse scaling for the label\n",
    "    noScale_pred = torch.from_numpy(scaler_label.inverse_transform(pred.detach().numpy()))\n",
    "    noScale_loss = criterion(noScale_pred, y_test)\n",
    "    test_loss.append(noScale_loss)\n",
    "    return noScale_pred\n",
    "\n",
    "\n",
    "model1_pred = test_model(loaded_model1)\n",
    "model2_pred = test_model(loaded_model2)\n",
    "\n",
    "print('Before printing MSE, I made sure to scale back the prediction label to its original form')\n",
    "print('The MSE of model 1 is:', test_loss[0].item())\n",
    "print('The MSE of model 2 is:', test_loss[1].item())\n",
    "\n",
    "#save the predictions to the dataframe\n",
    "final_table['Model 1'] = model1_pred\n",
    "final_table['Model 2'] = model2_pred\n",
    "\n",
    "final_table.to_csv('regression.csv', index=False)\n"
   ]
  }
 ],
 "metadata": {
  "colab": {
   "collapsed_sections": [],
   "name": "HW2-2_regression.ipynb",
   "provenance": []
  },
  "kernelspec": {
   "display_name": "Python 3 (ipykernel)",
   "language": "python",
   "name": "python3"
  },
  "language_info": {
   "codemirror_mode": {
    "name": "ipython",
    "version": 3
   },
   "file_extension": ".py",
   "mimetype": "text/x-python",
   "name": "python",
   "nbconvert_exporter": "python",
   "pygments_lexer": "ipython3",
   "version": "3.10.2"
  }
 },
 "nbformat": 4,
 "nbformat_minor": 4
}
