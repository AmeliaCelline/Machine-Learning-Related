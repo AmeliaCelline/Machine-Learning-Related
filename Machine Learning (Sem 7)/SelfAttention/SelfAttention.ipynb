{
  "cells": [
    {
      "cell_type": "markdown",
      "metadata": {
        "id": "view-in-github"
      },
      "source": [
        "<a href=\"https://colab.research.google.com/github/udlbook/udlbook/blob/main/Notebooks/Chap12/12_1_Self_Attention.ipynb\" target=\"_parent\"><img src=\"https://colab.research.google.com/assets/colab-badge.svg\" alt=\"Open In Colab\"/></a>"
      ]
    },
    {
      "cell_type": "code",
      "source": [
        "from google.colab import drive\n",
        "drive.mount('/content/drive')"
      ],
      "metadata": {
        "colab": {
          "base_uri": "https://localhost:8080/"
        },
        "id": "afH3blWwlV2a",
        "outputId": "39b4cb94-5ba6-4055-b80e-259493978745"
      },
      "execution_count": 88,
      "outputs": [
        {
          "output_type": "stream",
          "name": "stdout",
          "text": [
            "Drive already mounted at /content/drive; to attempt to forcibly remount, call drive.mount(\"/content/drive\", force_remount=True).\n"
          ]
        }
      ]
    },
    {
      "cell_type": "markdown",
      "metadata": {
        "id": "t9vk9Elugvmi"
      },
      "source": [
        "# **Week 14: Colab Experiment on Self Attention**\n",
        "\n",
        "This notebook builds a self-attention mechanism from scratch, as discussed in section 12.2 of the book.\n",
        "\n",
        "Work through the cells below, running each cell in turn. In various places you will see the words \"TO DO\". Follow the instructions at these places and make predictions about what is going to happen or write code to complete the functions.\n",
        "\n"
      ]
    },
    {
      "cell_type": "code",
      "execution_count": 89,
      "metadata": {
        "id": "OLComQyvCIJ7"
      },
      "outputs": [],
      "source": [
        "import numpy as np\n",
        "import matplotlib.pyplot as plt"
      ]
    },
    {
      "cell_type": "markdown",
      "metadata": {
        "id": "9OJkkoNqCVK2"
      },
      "source": [
        "The self-attention mechanism maps $N$ inputs $\\mathbf{x}_{n}\\in\\mathbb{R}^{D}$ and returns $N$ outputs $\\mathbf{x}'_{n}\\in \\mathbb{R}^{D}$.  \n",
        "\n"
      ]
    },
    {
      "cell_type": "code",
      "execution_count": 90,
      "metadata": {
        "colab": {
          "base_uri": "https://localhost:8080/"
        },
        "id": "oAygJwLiCSri",
        "outputId": "eac9c98c-143f-4159-a156-e6d906bf4a2f"
      },
      "outputs": [
        {
          "output_type": "stream",
          "name": "stdout",
          "text": [
            "[array([[ 1.78862847],\n",
            "       [ 0.43650985],\n",
            "       [ 0.09649747],\n",
            "       [-1.8634927 ]]), array([[-0.2773882 ],\n",
            "       [-0.35475898],\n",
            "       [-0.08274148],\n",
            "       [-0.62700068]]), array([[-0.04381817],\n",
            "       [-0.47721803],\n",
            "       [-1.31386475],\n",
            "       [ 0.88462238]])]\n"
          ]
        }
      ],
      "source": [
        "# Set seed so we get the same random numbers\n",
        "np.random.seed(3)\n",
        "# Number of inputs\n",
        "N = 3\n",
        "# Number of dimensions of each input\n",
        "D = 4\n",
        "# Create an empty list\n",
        "all_x = []\n",
        "# Create elements x_n and append to list\n",
        "for n in range(N):\n",
        "  all_x.append(np.random.normal(size=(D,1)))\n",
        "# Print out the list\n",
        "print(all_x)\n"
      ]
    },
    {
      "cell_type": "markdown",
      "metadata": {
        "id": "W2iHFbtKMaDp"
      },
      "source": [
        "We'll also need the weights and biases for the keys, queries, and values (equations 12.2 and 12.4)"
      ]
    },
    {
      "cell_type": "code",
      "execution_count": 91,
      "metadata": {
        "id": "79TSK7oLMobe"
      },
      "outputs": [],
      "source": [
        "# Set seed so we get the same random numbers\n",
        "np.random.seed(0)\n",
        "\n",
        "# Choose random values for the parameters\n",
        "omega_q = np.random.normal(size=(D,D))\n",
        "omega_k = np.random.normal(size=(D,D))\n",
        "omega_v = np.random.normal(size=(D,D))\n",
        "beta_q = np.random.normal(size=(D,1))\n",
        "beta_k = np.random.normal(size=(D,1))\n",
        "beta_v = np.random.normal(size=(D,1))"
      ]
    },
    {
      "cell_type": "markdown",
      "metadata": {
        "id": "VxaKQtP3Ng6R"
      },
      "source": [
        "Now let's compute the queries, keys, and values for each input"
      ]
    },
    {
      "cell_type": "code",
      "execution_count": 92,
      "metadata": {
        "id": "TwDK2tfdNmw9"
      },
      "outputs": [],
      "source": [
        "# Make three lists to store queries, keys, and values\n",
        "all_queries = []\n",
        "all_keys = []\n",
        "all_values = []\n",
        "# For every input\n",
        "for x in all_x:\n",
        "  query = np.ones_like(x)\n",
        "  key = np.ones_like(x)\n",
        "  value = np.ones_like(x)\n",
        "\n",
        "  # TODO -- compute the keys, queries and values.\n",
        "  query = beta_q + np.matmul(omega_q, x)\n",
        "  key = beta_k + np.matmul(omega_k, x)\n",
        "  value = beta_v + np.matmul(omega_v, x)\n",
        "\n",
        "  all_queries.append(query)\n",
        "  all_keys.append(key)\n",
        "  all_values.append(value)\n"
      ]
    },
    {
      "cell_type": "markdown",
      "metadata": {
        "id": "Se7DK6PGPSUk"
      },
      "source": [
        "We'll need a softmax function (equation 12.5) -- here, it will take a list of arbitrary numbers and return a list where the elements are non-negative and sum to one\n"
      ]
    },
    {
      "cell_type": "code",
      "execution_count": 93,
      "metadata": {
        "id": "u93LIcE5PoiM"
      },
      "outputs": [],
      "source": [
        "def softmax(items_in):\n",
        "  # TODO Compute the elements of items_out\n",
        "  #items in is 1xN\n",
        "\n",
        "  denominator = 0\n",
        "  for i in items_in:\n",
        "    denominator += np.exp(i)\n",
        "\n",
        "  items_out = []\n",
        "  for i in items_in:\n",
        "    numerator = np.exp(i)\n",
        "    items_out.append((numerator/denominator).item())\n",
        "\n",
        "  return items_out ;\n"
      ]
    },
    {
      "cell_type": "markdown",
      "metadata": {
        "id": "8aJVhbKDW7lm"
      },
      "source": [
        "Now compute the self attention values:"
      ]
    },
    {
      "cell_type": "code",
      "execution_count": 94,
      "metadata": {
        "colab": {
          "base_uri": "https://localhost:8080/"
        },
        "id": "yimz-5nCW6vQ",
        "outputId": "f8aac7b1-02df-4579-a972-181ceb8d780d"
      },
      "outputs": [
        {
          "output_type": "stream",
          "name": "stdout",
          "text": [
            "Attentions for output  0\n",
            "[1.2432614615724094e-13, 0.9982814887008525, 0.0017185112990231368]\n",
            "Attentions for output  1\n",
            "[2.7952530620087617e-12, 0.0058550635983758564, 0.994144936398829]\n",
            "Attentions for output  2\n",
            "[0.005057079072941125, 0.006547760717181933, 0.9883951602098769]\n",
            "x_prime_0_calculated: [[ 0.94744244 -0.24348429 -0.91310441 -0.44522983]]\n",
            "x_prime_0_true: [[ 0.94744244 -0.24348429 -0.91310441 -0.44522983]]\n",
            "x_prime_1_calculated: [[ 1.64201168 -0.08470004  4.02764044  2.18690791]]\n",
            "x_prime_1_true: [[ 1.64201168 -0.08470004  4.02764044  2.18690791]]\n",
            "x_prime_2_calculated: [[ 1.61949281 -0.06641533  3.96863308  2.15858316]]\n",
            "x_prime_2_true: [[ 1.61949281 -0.06641533  3.96863308  2.15858316]]\n"
          ]
        }
      ],
      "source": [
        "# Create empty list for output\n",
        "all_x_prime = []\n",
        "\n",
        "#I want to change dimension for all_values\n",
        "#cuz right now the shape is like (3,4,1), I want to make it (3,4)\n",
        "#this is so that I can do all_values.T x attention\n",
        "for i in range(N):\n",
        "  all_values[i] = all_values[i].flatten()\n",
        "\n",
        "# For each output\n",
        "for n in range(N):\n",
        "  # Create list for dot products of query N with all keys\n",
        "  all_km_qn = []\n",
        "  # Compute the dot products\n",
        "  for key in all_keys:\n",
        "    # TODO -- compute the appropriate dot product\n",
        "    dot_product = np.matmul(key.T, all_queries[n])\n",
        "\n",
        "    # Store dot product\n",
        "    all_km_qn.append(dot_product)\n",
        "\n",
        "  # Compute dot product\n",
        "  attention = softmax(all_km_qn)\n",
        "  # Print result (should be positive sum to one)\n",
        "  print(\"Attentions for output \", n)\n",
        "  print(attention)\n",
        "\n",
        "  x_prime = np.zeros((D,1))\n",
        "  # TODO: Compute a weighted sum of all of the values according to the attention\n",
        "  # (equation 12.3)\n",
        "\n",
        "  #Dx1 =  DXN NX1\n",
        "  x_prime = np.matmul(np.array(all_values).T, np.array(attention).T)\n",
        "\n",
        "  #the reshape function here is to only make my output the same with the one TA print\n",
        "  all_x_prime.append(x_prime.reshape(D,1))\n",
        "\n",
        "\n",
        "# Print out true values to check you have it correct\n",
        "print(\"x_prime_0_calculated:\", all_x_prime[0].transpose())\n",
        "print(\"x_prime_0_true: [[ 0.94744244 -0.24348429 -0.91310441 -0.44522983]]\")\n",
        "print(\"x_prime_1_calculated:\", all_x_prime[1].transpose())\n",
        "print(\"x_prime_1_true: [[ 1.64201168 -0.08470004  4.02764044  2.18690791]]\")\n",
        "print(\"x_prime_2_calculated:\", all_x_prime[2].transpose())\n",
        "print(\"x_prime_2_true: [[ 1.61949281 -0.06641533  3.96863308  2.15858316]]\")\n"
      ]
    },
    {
      "cell_type": "markdown",
      "metadata": {
        "id": "PJ2vCQ_7C38K"
      },
      "source": [
        "Now let's compute the same thing, but using matrix calculations.  We'll store the $N$ inputs $\\mathbf{x}_{n}\\in\\mathbb{R}^{D}$ in the columns of a $D\\times N$ matrix, using equations 12.6 and 12.7/8.\n",
        "\n",
        "Note:  The book uses column vectors (for compatibility with the rest of the text), but in the wider literature it is more normal to store the inputs in the rows of a matrix;  in this case, the computation is the same, but all the matrices are transposed and the operations proceed in the reverse order."
      ]
    },
    {
      "cell_type": "code",
      "execution_count": 95,
      "metadata": {
        "id": "obaQBdUAMXXv"
      },
      "outputs": [],
      "source": [
        "# Define softmax operation that works independently on each column\n",
        "def softmax_cols(data_in):\n",
        "  # Exponentiate all of the values\n",
        "  exp_values = np.exp(data_in) ;\n",
        "  # Sum over columns\n",
        "  denom = np.sum(exp_values, axis = 0);\n",
        "  # Replicate denominator to N rows\n",
        "  denom = np.matmul(np.ones((data_in.shape[0],1)), denom[np.newaxis,:])\n",
        "  # Compute softmax\n",
        "  softmax = exp_values / denom\n",
        "  # return the answer\n",
        "  return softmax"
      ]
    },
    {
      "cell_type": "code",
      "execution_count": 96,
      "metadata": {
        "id": "gb2WvQ3SiH8r"
      },
      "outputs": [],
      "source": [
        " # Now let's compute self attention in matrix form\n",
        "def self_attention(X,omega_v, omega_q, omega_k, beta_v, beta_q, beta_k):\n",
        "\n",
        "  # TODO -- Write this function\n",
        "  # 1. Compute queries, keys, and values\n",
        "  queries = beta_q + np.matmul(omega_q, X)\n",
        "  keys = beta_k + np.matmul(omega_k, X)\n",
        "  values = beta_v + np.matmul(omega_v, X)\n",
        "\n",
        "  # 2. Compute dot products\n",
        "  dot_product = np.matmul(keys.T, queries)\n",
        "\n",
        "  # 3. Apply softmax to calculate attentions\n",
        "  attention = softmax_cols(dot_product)\n",
        "\n",
        "  # 4. Weight values by attentions\n",
        "  #DXN = DXN NXN\n",
        "  X_prime= np.matmul(values,attention)\n",
        "\n",
        "  return X_prime"
      ]
    },
    {
      "cell_type": "code",
      "execution_count": 97,
      "metadata": {
        "colab": {
          "base_uri": "https://localhost:8080/"
        },
        "id": "MUOJbgJskUpl",
        "outputId": "62d3a094-6c95-4f65-d3b2-b3526007a561"
      },
      "outputs": [
        {
          "output_type": "stream",
          "name": "stdout",
          "text": [
            "[[ 0.94744244  1.64201168  1.61949281]\n",
            " [-0.24348429 -0.08470004 -0.06641533]\n",
            " [-0.91310441  4.02764044  3.96863308]\n",
            " [-0.44522983  2.18690791  2.15858316]]\n"
          ]
        }
      ],
      "source": [
        "# Copy data into matrix\n",
        "X = np.zeros((D, N))\n",
        "X[:,0] = np.squeeze(all_x[0])\n",
        "X[:,1] = np.squeeze(all_x[1])\n",
        "X[:,2] = np.squeeze(all_x[2])\n",
        "\n",
        "# Run the self attention mechanism\n",
        "X_prime = self_attention(X,omega_v, omega_q, omega_k, beta_v, beta_q, beta_k)\n",
        "\n",
        "# Print out the results\n",
        "print(X_prime)"
      ]
    },
    {
      "cell_type": "code",
      "execution_count": null,
      "metadata": {
        "id": "9QKL4iMg0dFF"
      },
      "outputs": [],
      "source": []
    }
  ],
  "metadata": {
    "colab": {
      "provenance": []
    },
    "kernelspec": {
      "display_name": "Python 3",
      "name": "python3"
    },
    "language_info": {
      "name": "python"
    }
  },
  "nbformat": 4,
  "nbformat_minor": 0
}